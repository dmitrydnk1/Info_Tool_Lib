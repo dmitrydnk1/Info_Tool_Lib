{
 "cells": [
  {
   "cell_type": "code",
   "execution_count": 1,
   "metadata": {},
   "outputs": [
    {
     "name": "stdout",
     "output_type": "stream",
     "text": [
      "Info Tools Lib       VERSION: 0.0.6 @ 2024-08-21\n"
     ]
    }
   ],
   "source": [
    "# Import the info_tool_lib module\n",
    "\n",
    "import info_tool_lib\n",
    "\n",
    "print(info_tool_lib.VERSION)"
   ]
  },
  {
   "cell_type": "markdown",
   "metadata": {},
   "source": [
    "---\n",
    "\n",
    "### Progress Bar Simple Example:"
   ]
  },
  {
   "cell_type": "code",
   "execution_count": 13,
   "metadata": {},
   "outputs": [
    {
     "name": "stdout",
     "output_type": "stream",
     "text": [
      "Progress: [█████████████████████████████>] 99.00% - 99/100  \tElapsed Time: 0.001s  \tETA: 0s \t          \n",
      "DONE in 0.001s. \n"
     ]
    }
   ],
   "source": [
    "from info_tool_lib import ProgressBar\n",
    "\n",
    "steps: int = 100\n",
    "\n",
    "pb: ProgressBar = ProgressBar(steps)\n",
    "\n",
    "for i in range(steps):\n",
    "    pb.update(i)\n",
    "\n",
    "pb.finish()"
   ]
  },
  {
   "cell_type": "markdown",
   "metadata": {},
   "source": [
    "### Example with imitation of some process, to measure progress:"
   ]
  },
  {
   "cell_type": "code",
   "execution_count": 14,
   "metadata": {},
   "outputs": [
    {
     "name": "stdout",
     "output_type": "stream",
     "text": [
      "Progress: [██████████████████████████████] 100.0%  - 100/100  \tElapsed Time: 4.473s  \tETA: 0.0s \t      rent step: 99   \n",
      "DONE in 4.473s. \n"
     ]
    }
   ],
   "source": [
    "import numpy as np\n",
    "import time\n",
    "\n",
    "steps: int = 100\n",
    "\n",
    "pb = ProgressBar(steps)\n",
    "\n",
    "for i in range(steps):        \n",
    "    pb.step(f'current step: {i}')        \n",
    "    wait_period: float = 0.03 + np.random.rand() * 0.03\n",
    "    time.sleep(wait_period)\n",
    "    pass\n",
    "\n",
    "pb.end()"
   ]
  },
  {
   "cell_type": "markdown",
   "metadata": {},
   "source": [
    "### Custom use of Progress information, for custom purposes:"
   ]
  },
  {
   "cell_type": "code",
   "execution_count": 15,
   "metadata": {},
   "outputs": [
    {
     "name": "stdout",
     "output_type": "stream",
     "text": [
      "Elapsed Time: 00 : 00 : 04:538 | ETA: 00 : 00 : 00:041 | Progress: 99.00%: 4.538s  \tETA: 0.041s \t      \r"
     ]
    }
   ],
   "source": [
    "import numpy as np\n",
    "import time\n",
    "from info_tool_lib import ProgressBar\n",
    "\n",
    "steps: int = 100\n",
    "\n",
    "pb = ProgressBar(100)\n",
    "\n",
    "for i in range(100):\n",
    "    wait_period: float = 0.03 + np.random.rand() * 0.03\n",
    "    time.sleep(wait_period)\n",
    "    pb.update(i)\n",
    "    \n",
    "    # Get the progress status string to use for other purposes\n",
    "    #   e.g. for logging or updating by chat bot message.\n",
    "    progress_status_str: str = pb.get_status_str()\n",
    "    print(progress_status_str, end='\\r')\n",
    "    pass"
   ]
  },
  {
   "cell_type": "markdown",
   "metadata": {},
   "source": [
    "---\n",
    "\n",
    "### Example of Running in Jupyter Notebooks:"
   ]
  },
  {
   "cell_type": "code",
   "execution_count": 16,
   "metadata": {},
   "outputs": [
    {
     "data": {
      "text/html": [
       "\n",
       "        <div style=\"color: white; margin-bottom: 5px; font-family: 'Segoe UI', 'Roboto', 'Open Sans', Arial, Helvetica, sans-serif; font-size: 14px; color:#C5C5C5\">\n",
       "            <p style=\"line-height: 1.6; margin-bottom: 10px;\"><strong>STATUS:</strong> Current: 100 | Target: 100 | Elapsed Time: 00 : 00 : 04:732 | ETA: 00 : 00 : 00:000</p>\n",
       "            <p style=\"line-height: 1.6; margin-bottom: 10px;\"><strong></strong> current step: 99</p>\n",
       "            <p style=\"line-height: 1.6; margin-bottom: 10px;\"><strong>PROGRESS:</strong> 100.00%</p>\n",
       "        </div>\n",
       "        <div style=\"background-color: #333333; border-radius: 20px; padding: 2px; border: 1px solid #444444; box-shadow: 0 2px 4px rgba(0,0,0,0.5);\">\n",
       "            <div style=\"width: 100.0%; height: 20px; background: linear-gradient(90deg, rgba(10,132,255,1) 0%, rgba(59,153,252,1) 100%); border-radius: 18px; box-shadow: inset 0 2px 4px rgba(0,0,0,0.2); transition: width 0.3s ease-in-out;\">\n",
       "            </div>\n",
       "        </div>\n",
       "        "
      ],
      "text/plain": [
       "<info_tool_lib.progress_bar.progress_bar.ProgressBar at 0x1f00b968bf0>"
      ]
     },
     "metadata": {},
     "output_type": "display_data"
    }
   ],
   "source": [
    "import numpy as np\n",
    "import time\n",
    "\n",
    "steps: int = 100\n",
    "\n",
    "pb = ProgressBar.make_for_jupyter(steps)\n",
    "\n",
    "for i in range(steps):        \n",
    "    pb.step(f'current step: {i}')        \n",
    "    wait_period: float = 0.03 + np.random.rand() * 0.03        \n",
    "    time.sleep(wait_period)\n",
    "    pass\n"
   ]
  },
  {
   "cell_type": "markdown",
   "metadata": {},
   "source": [
    "---\n",
    "\n",
    "### Custom Initialization of Progress Bar Parameters."
   ]
  },
  {
   "cell_type": "code",
   "execution_count": 17,
   "metadata": {},
   "outputs": [
    {
     "name": "stdout",
     "output_type": "stream",
     "text": [
      "Progress: [██████████████████████████████] 100.0%  - 100/100  \tElapsed Time: 4.42s  \tETA: 0.0s \t   current step: 99    \r"
     ]
    }
   ],
   "source": [
    "import numpy as np\n",
    "import time\n",
    "from info_tool_lib import ProgressBar\n",
    "\n",
    "steps: int = 100\n",
    "\n",
    "# Progress Bar with Custom Settings Initialization:\n",
    "pb: ProgressBar = ProgressBar(  target_score          = steps,\n",
    "                                start_score           = 0,\n",
    "                                update_frequency_pcnt = 1.0,\n",
    "                                bar_length            = 30,\n",
    "                                text_message_default  = 'Processing...',\n",
    "                                jupyter_mode          = False, )\n",
    "\n",
    "for i in range(steps):        \n",
    "    pb.step(f'current step: {i}')        \n",
    "    wait_period: float = 0.03 + np.random.rand() * 0.03\n",
    "    time.sleep(wait_period)\n",
    "    pass"
   ]
  }
 ],
 "metadata": {
  "kernelspec": {
   "display_name": "Python 3",
   "language": "python",
   "name": "python3"
  },
  "language_info": {
   "codemirror_mode": {
    "name": "ipython",
    "version": 3
   },
   "file_extension": ".py",
   "mimetype": "text/x-python",
   "name": "python",
   "nbconvert_exporter": "python",
   "pygments_lexer": "ipython3",
   "version": "3.12.4"
  }
 },
 "nbformat": 4,
 "nbformat_minor": 2
}
