{
 "cells": [
  {
   "cell_type": "markdown",
   "metadata": {},
   "source": [
    "## Report Generation Example:"
   ]
  },
  {
   "cell_type": "markdown",
   "metadata": {},
   "source": [
    "### Initialization for reports setting ( Location of report saving )."
   ]
  },
  {
   "cell_type": "code",
   "execution_count": 65,
   "metadata": {},
   "outputs": [
    {
     "name": "stdout",
     "output_type": "stream",
     "text": [
      "Updated default reports folder path: C:\\#CODE\\My_Reports\\\n"
     ]
    }
   ],
   "source": [
    "from info_tool_lib import Reports_Settings\n",
    "\n",
    "# Use one of options, with absolute, or relative path.\n",
    "REPORTS_ABS_PATH: str = 'C:\\\\#CODE\\\\My_Reports\\\\'\n",
    "REPORTS_PATH:     str = 'my_reports\\\\'\n",
    "\n",
    "\n",
    "# !!! Initialize default path once, in any of the python code, and it willl be used in all other modules, where it is imported.\n",
    "Reports_Settings.set_deafult_report_path(REPORTS_ABS_PATH)\n"
   ]
  },
  {
   "cell_type": "code",
   "execution_count": 66,
   "metadata": {},
   "outputs": [
    {
     "data": {
      "text/plain": [
       "'C:\\\\#CODE\\\\My_Reports\\\\'"
      ]
     },
     "execution_count": 66,
     "metadata": {},
     "output_type": "execute_result"
    }
   ],
   "source": [
    "# Check if default path is set.\n",
    "Reports_Settings.get_deafult_report_path()"
   ]
  },
  {
   "cell_type": "code",
   "execution_count": null,
   "metadata": {},
   "outputs": [],
   "source": []
  },
  {
   "cell_type": "markdown",
   "metadata": {},
   "source": [
    "# Example of Report Generation:\n",
    "\n",
    "The new names for the reports, generating incrimentally.\n",
    "Good tool for store results, and parameters for exploring advanced project, or testing custom set of calculations."
   ]
  },
  {
   "cell_type": "code",
   "execution_count": 73,
   "metadata": {},
   "outputs": [],
   "source": [
    "import numpy as np\n",
    "import pandas as pd\n",
    "import matplotlib.pyplot as plt\n",
    "\n",
    "# Importing Report Class.\n",
    "from info_tool_lib import ReportHTML\n",
    "\n",
    "# Creating Report Object. ( It will be filled with data in later steps. )\n",
    "report: ReportHTML = ReportHTML()"
   ]
  },
  {
   "cell_type": "markdown",
   "metadata": {},
   "source": [
    "## Report Section A: Example of Adding basic Elements"
   ]
  },
  {
   "cell_type": "code",
   "execution_count": 68,
   "metadata": {},
   "outputs": [],
   "source": [
    "report.add_title('Title Section A - Basic Elements')\n",
    "\n",
    "# --- ADD LONG TEXT: ------------------------------------------------------------\n",
    "\n",
    "my_long_text: str = '''\n",
    "This is a long text that will be displayed in the report.\n",
    "With multiple lines and paragraphs.\n",
    "    Some indentation.\n",
    "    Some absolute not needed indentation.\n",
    "\n",
    "Final paragraph with joke, I jsut googled to paste here:\n",
    "    Why did the scarecrow win an award?\n",
    "    Because he was outstanding in his field.\n",
    "'''\n",
    "\n",
    "report.add_text(my_long_text)\n",
    "\n",
    "# --- ADD ALERT BOX: ------------------------------------------------------------\n",
    "\n",
    "report.add_alert_box('Add various elemnts to the reports', alert_type = 'i', emoji = '👍')\n",
    "\n",
    "# --- ADD PARAMETERS TABLE, as a dictionary: ------------------------------------\n",
    "\n",
    "contained_elements: dict = {'Param F': 15,\n",
    "                            'Param Z': 25,\n",
    "                            'Param Y': 35.6,\n",
    "                            'Param X': 'Undefined',}\n",
    "\n",
    "\n",
    "report.add_param_value_table(contained_elements)\n",
    "\n",
    "# --- ADDING SUB-TITLE: ---------------------------------------------------------\n",
    "\n",
    "report.add_title('Title Subsection - Parameters with more values:', h_level = 2, use_center = True)\n",
    "\n",
    "# --- ADD PARAMETERS TABLE with many records, as a dictionary: -------------------\n",
    "\n",
    "contained_elements_large: dict = {  'Param F': 15,\n",
    "                                    'Param Z': 25,\n",
    "                                    'Param Y': 35.6,\n",
    "                                    'Param X': 'Undefined',\n",
    "                                    'Param A': 15,\n",
    "                                    'Param B': 25,\n",
    "                                    'Param C': 35.6,\n",
    "                                    'Param D': 'Undefined',\n",
    "                                    'Param E': 15,\n",
    "                                    'Param G': 25,\n",
    "                                    'Param H': 35.6, }\n",
    "\n",
    "report.add_param_value_table_big(contained_elements_large)\n"
   ]
  },
  {
   "cell_type": "markdown",
   "metadata": {},
   "source": [
    "## Report Section B: \n",
    "\n",
    "- Example of DataFrames, \n",
    "- Show/Hide Section, \n",
    "- Used in Jupyter Notebook, source code of a function."
   ]
  },
  {
   "cell_type": "code",
   "execution_count": 69,
   "metadata": {},
   "outputs": [],
   "source": [
    "report.add_title('Title Section B - Functions Code & DataFrames')\n",
    "\n",
    "# --- PREPARE CUSTOM FUNCTION: --------------------------------------------------\n",
    "# it can be any function, in that or previous cells.\n",
    "\n",
    "def prepare_df() -> pd.DataFrame:\n",
    "    \n",
    "    data = {\n",
    "        'name':     ['John', 'Anna', 'Peter', 'Linda'],\n",
    "        'location': ['New York', 'Paris', 'Berlin', 'London'],\n",
    "        'age':      [24, 13, 53, 33]\n",
    "    }\n",
    "\n",
    "    df = pd.DataFrame(data, columns = ['name', 'location', 'age'])\n",
    "    \n",
    "    return df\n",
    "\n",
    "# --- ADD SHOW/HIDE REGION: -----------------------------------------------------\n",
    "\n",
    "report.add_showhide_region_open('Function Code for DataFrame Preparation')\n",
    "\n",
    "# --- ADD FUNCTION SOURCE CODE, just by passing function name: -------------------\n",
    "\n",
    "report.add_code(prepare_df)\n",
    "\n",
    "# --- CLOSE SHOW/HIDE REGION: ---------------------------------------------------\n",
    "\n",
    "report.add_showhide_region_close()\n",
    "\n",
    "# Prepare DataFrame, with function, from above.\n",
    "\n",
    "df: pd.DataFrame = prepare_df()\n",
    "\n",
    "# --- ADD DATAFRAME TABLE: ------------------------------------------------------\n",
    "\n",
    "report.add_dataframe_table(df, highlight_columns = ['age']) "
   ]
  },
  {
   "cell_type": "markdown",
   "metadata": {},
   "source": [
    "## Report Section C: Charts"
   ]
  },
  {
   "cell_type": "code",
   "execution_count": 70,
   "metadata": {},
   "outputs": [
    {
     "data": {
      "text/plain": [
       "<Figure size 1300x600 with 0 Axes>"
      ]
     },
     "metadata": {},
     "output_type": "display_data"
    }
   ],
   "source": [
    "report.add_title('Title Section C - Charts')\n",
    "\n",
    "# Making custom Chart with Matplotlib.\n",
    "\n",
    "fig: plt.Figure = plt.figure(figsize = (13, 6), dpi = 100, tight_layout = True)\n",
    "\n",
    "ax: plt.Axes = fig.add_subplot(111)\n",
    "\n",
    "chart_line_x:  np.ndarray[float] = np.linspace(0, 10, 1000, dtype = float)\n",
    "chart_line_y1: np.ndarray[float] = np.sin(chart_line_x)\n",
    "chart_line_y2: np.ndarray[float] = np.cos(chart_line_x * 4)\n",
    "chart_line_y3: np.ndarray[float] = chart_line_y1 + chart_line_y2\n",
    "\n",
    "ax.plot(        chart_line_x, chart_line_y1, color = '#570', linestyle = '-', linewidth = 0.5, alpha = 0.8)\n",
    "ax.fill_between(chart_line_x, chart_line_y1, color = '#570', alpha = 0.1, label = 'sin(x)')\n",
    "\n",
    "ax.plot(        chart_line_x, chart_line_y2, color = '#057', linestyle = '--', linewidth = 0.5, alpha = 0.8)\n",
    "ax.fill_between(chart_line_x, chart_line_y2, color = '#057', alpha = 0.1, label = 'cos(4*x)')\n",
    "\n",
    "ax.plot(        chart_line_x, chart_line_y3, color = '#333', linestyle = ':', linewidth = 0.5, alpha = 0.8)\n",
    "ax.fill_between(chart_line_x, chart_line_y3, color = '#333', alpha = 0.1, label = 'sin(x) + cos(4*x)')\n",
    "\n",
    "ax.set_title('Sinus and Cosinus Functions')\n",
    "ax.set_xlabel('x - axis')\n",
    "ax.set_ylabel('y - axis')\n",
    "\n",
    "ax.legend()\n",
    "\n",
    "# Using another function from info_tool_lib, for updating plot style. (Optional)\n",
    "from info_tool_lib import plt_ax\n",
    "plt_ax.flat_style(ax)\n",
    "\n",
    "\n",
    "# --- ADD PLOT TO REPORT: -------------------------------------------------------\n",
    "# Just pass the figure object, and it will be added to the report.\n",
    "report.add_plot(fig)\n",
    "\n",
    "\n",
    "# (Optional) Clear the figure, to free memory.\n",
    "fig.clear()\n"
   ]
  },
  {
   "cell_type": "markdown",
   "metadata": {},
   "source": [
    "## Report Section D: Adding Larger DataFrame"
   ]
  },
  {
   "cell_type": "code",
   "execution_count": 71,
   "metadata": {},
   "outputs": [],
   "source": [
    "report.add_title('Title Section D - Large DataFrame')\n",
    "\n",
    "# - Prepare Larger DataFrame:\n",
    "\n",
    "rows_amount: int = 30\n",
    "\n",
    "large_df: pd.DataFrame = pd.DataFrame(np.random.randn(rows_amount, 4), columns = list('ABCD'))\n",
    "large_df['E'] = pd.date_range('20210101', periods = rows_amount)\n",
    "\n",
    "# adding more Columns to the DataFrame\n",
    "for i in range(10):\n",
    "    large_df[f'X{i}'] = np.random.randn(rows_amount)\n",
    "\n",
    "# --- ADD DATAFRAME TABLE, with heatmap highlights for custom column: ------------------------------------------------------\n",
    "report.add_dataframe_table(large_df, highlight_columns = ['A', 'B', 'D'], color_map_name = 'coolwarm', round = 2)"
   ]
  },
  {
   "cell_type": "markdown",
   "metadata": {},
   "source": [
    "## Saving Generated Report"
   ]
  },
  {
   "cell_type": "code",
   "execution_count": 72,
   "metadata": {},
   "outputs": [],
   "source": [
    "report.save()"
   ]
  }
 ],
 "metadata": {
  "kernelspec": {
   "display_name": "Python 3",
   "language": "python",
   "name": "python3"
  },
  "language_info": {
   "codemirror_mode": {
    "name": "ipython",
    "version": 3
   },
   "file_extension": ".py",
   "mimetype": "text/x-python",
   "name": "python",
   "nbconvert_exporter": "python",
   "pygments_lexer": "ipython3",
   "version": "3.12.4"
  }
 },
 "nbformat": 4,
 "nbformat_minor": 2
}
